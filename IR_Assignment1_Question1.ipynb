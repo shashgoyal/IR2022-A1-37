{
  "cells": [
    {
      "cell_type": "markdown",
      "metadata": {
        "id": "9mFYbXWgTseG"
      },
      "source": [
        "# Information Retrieval\n",
        "\n",
        "####Samad Shahid (2019446)\n",
        "####Shashwat Goyal (2019447)"
      ]
    },
    {
      "cell_type": "code",
      "execution_count": null,
      "metadata": {
        "id": "xPFL0nHwdP3l"
      },
      "outputs": [],
      "source": [
        "import nltk\n",
        "from nltk.tokenize import word_tokenize\n",
        "import string\n",
        "from collections import defaultdict\n",
        "from nltk.corpus import stopwords\n",
        "import os"
      ]
    },
    {
      "cell_type": "code",
      "execution_count": null,
      "metadata": {
        "colab": {
          "base_uri": "https://localhost:8080/"
        },
        "id": "9lhz_HIJddgq",
        "outputId": "4c2a835d-2a92-4205-a41a-2140112faac1"
      },
      "outputs": [
        {
          "name": "stdout",
          "output_type": "stream",
          "text": [
            "Extraction Done\n"
          ]
        }
      ],
      "source": [
        "from zipfile import ZipFile\n",
        "file_name = 'ira1.zip' # Extracts Zip file\n",
        "with ZipFile('ira1.zip', 'r') as zip:\n",
        "  zip.extractall()\n",
        "print('Extraction Done')"
      ]
    },
    {
      "cell_type": "code",
      "execution_count": null,
      "metadata": {
        "colab": {
          "base_uri": "https://localhost:8080/"
        },
        "id": "3LQ-n6cdeOoy",
        "outputId": "e8fb71e5-fc07-4536-838a-509a2ca3233a"
      },
      "outputs": [
        {
          "name": "stdout",
          "output_type": "stream",
          "text": [
            "[nltk_data] Downloading package punkt to /root/nltk_data...\n",
            "[nltk_data]   Package punkt is already up-to-date!\n",
            "[nltk_data] Downloading package stopwords to /root/nltk_data...\n",
            "[nltk_data]   Package stopwords is already up-to-date!\n"
          ]
        },
        {
          "data": {
            "text/plain": [
              "True"
            ]
          },
          "execution_count": 54,
          "metadata": {},
          "output_type": "execute_result"
        }
      ],
      "source": [
        "# folders=os.listdir(r'C:\\Users\\shash\\Desktop\\ira1')\n",
        "nltk.download('punkt')\n",
        "nltk.download('stopwords') # downloading packages"
      ]
    },
    {
      "cell_type": "code",
      "execution_count": null,
      "metadata": {
        "id": "5BNhzV4HdznE"
      },
      "outputs": [],
      "source": [
        "def ters(inp):\n",
        "    temp=(c for c in inp if not c.isdigit() and c.isalnum() and c not in string.punctuation) # removes digits and punctuations\n",
        "    one=1\n",
        "    zero=0\n",
        "    for i in range(1,2):\n",
        "      one=one+zero\n",
        "    temp1=''\n",
        "    return temp1.join(temp)"
      ]
    },
    {
      "cell_type": "code",
      "execution_count": null,
      "metadata": {
        "id": "pLeZZZcMd1qp"
      },
      "outputs": [],
      "source": [
        "def pro(inp):\n",
        "    one=1\n",
        "    zero=0\n",
        "    stop=set(stopwords.words('english')) # makes a set of stopwords\n",
        "    wordt = word_tokenize(inp.lower())  # lowers the words\n",
        "    wordt = list(dict.fromkeys(wordt))  # removes duplicates \n",
        "    for i in range(1,2):\n",
        "      one=one+zero\n",
        "    valid=[k for k in wordt if k not in stop]  #if the word is valid\n",
        "    valid=[ters(k) for k in valid]\n",
        "    for i in range(1,2):\n",
        "      one=one+zero\n",
        "    valid=[k for k in valid if len(k) > 1*one] # checking to see if length is greater than 1\n",
        "    return valid"
      ]
    },
    {
      "cell_type": "code",
      "execution_count": null,
      "metadata": {
        "id": "OK0Xnw-Rd5Bz"
      },
      "outputs": [],
      "source": [
        "def readf(filep):\n",
        "    try:\n",
        "        with open(filep ,'r', encoding = \"utf-8\", errors = 'replace') as ff:\n",
        "            corpus = ff.read().replace('\\n', ' ')\n",
        "            one=1\n",
        "            zero=0\n",
        "            corpus = pro(corpus)\n",
        "            for i in range(1,2):\n",
        "              one=one+zero\n",
        "            return corpus\n",
        "    except:\n",
        "        return None"
      ]
    },
    {
      "cell_type": "code",
      "execution_count": null,
      "metadata": {
        "id": "QRPfBPTRxycX"
      },
      "outputs": [],
      "source": [
        "# Comparison counter for queries\n",
        "comparison = 0"
      ]
    },
    {
      "cell_type": "code",
      "execution_count": null,
      "metadata": {
        "id": "piNJd-q3nKlV"
      },
      "outputs": [],
      "source": [
        "def XorY(a,b):\n",
        "  global comparison\n",
        "  ans = list()\n",
        "  i=0\n",
        "  j=0\n",
        "  while (i<len(a) and j<len(b)):\n",
        "    comparison += 1\n",
        "    if (a[i] < b[j]):\n",
        "      ans.append(a[i])\n",
        "      i += 1\n",
        "    elif (a[i] > b[j]):\n",
        "      ans.append(b[j])\n",
        "      j += 1\n",
        "    else:\n",
        "      ans.append(a[i])\n",
        "      i += 1\n",
        "      j += 1\n",
        "  \n",
        "  while (i<len(a)):\n",
        "    ans.append(a[i])\n",
        "    i += 1\n",
        "  \n",
        "  while (j<len(b)):\n",
        "    ans.append(b[j])\n",
        "    j += 1\n",
        "  \n",
        "  return ans"
      ]
    },
    {
      "cell_type": "code",
      "execution_count": null,
      "metadata": {
        "id": "FwnfsxsDyIG8"
      },
      "outputs": [],
      "source": [
        "def XandY(a,b):\n",
        "  global comparison\n",
        "  ans = list()\n",
        "  i=0\n",
        "  j=0\n",
        "  while (i<len(a) and j<len(b)):\n",
        "    comparison += 1\n",
        "    if (a[i] < b[j]):\n",
        "      i += 1\n",
        "    elif (a[i] > b[j]):\n",
        "      j += 1\n",
        "    else:\n",
        "      ans.append(a[i])\n",
        "      i += 1\n",
        "      j += 1\n",
        "  \n",
        "  return ans"
      ]
    },
    {
      "cell_type": "code",
      "execution_count": null,
      "metadata": {
        "id": "zApl_cAnyEiN"
      },
      "outputs": [],
      "source": [
        "def XandNotY (a, b):\n",
        "  global comparison\n",
        "  ans = list()\n",
        "  i=0\n",
        "  j=0\n",
        "  while (i<len(a) and j<len(b)):\n",
        "    comparison += 1\n",
        "    if (a[i] > b[j]):\n",
        "      # Dont add\n",
        "      j += 1\n",
        "    elif (a[i] == b[j]):\n",
        "      # Dont add\n",
        "      i += 1\n",
        "      j += 1\n",
        "    else:\n",
        "      # n[j] is greater than m[i], meaning m[i] not in n\n",
        "      ans.append(a[i])\n",
        "      i += 1\n",
        "  \n",
        "  while (i<len(a)):\n",
        "    # m[i] is never in n\n",
        "    ans.append(a[i])\n",
        "    i += 1\n",
        "  \n",
        "  return ans"
      ]
    },
    {
      "cell_type": "code",
      "execution_count": null,
      "metadata": {
        "id": "BJ-G_xq_yMY8"
      },
      "outputs": [],
      "source": [
        "def XorNotY (a,b):\n",
        "  global comparison\n",
        "  ans = list()\n",
        "  i=0\n",
        "  j=0\n",
        "  toStart = 1\n",
        "\n",
        "  while (i<len(a) and j<len(b)):\n",
        "    comparison += 1\n",
        "    if (a[i] > b[j]):\n",
        "      while (toStart<b[j]):\n",
        "        ans.append(toStart)\n",
        "        toStart += 1\n",
        "      j += 1\n",
        "      toStart += 1\n",
        "    elif (a[i] == b[j]):\n",
        "      ans.append(a[i])\n",
        "      toStart = a[i]+1\n",
        "      i += 1\n",
        "      j += 1\n",
        "    else:\n",
        "      while (toStart<b[j]):\n",
        "        ans.append(toStart)\n",
        "        toStart += 1\n",
        "      toStart += 1\n",
        "      while (a[i] < b[j]):\n",
        "        comparison += 1\n",
        "        i += 1\n",
        "\n",
        "  while (j<len(b)):\n",
        "    while (toStart < b[j]):\n",
        "      ans.append(toStart)\n",
        "      toStart += 1\n",
        "    toStart += 1\n",
        "    j += 1\n",
        "  \n",
        "  while (toStart <= noOfDocuments):\n",
        "    ans.append(toStart)\n",
        "    toStart += 1\n",
        "\n",
        "  return ans"
      ]
    },
    {
      "cell_type": "code",
      "execution_count": null,
      "metadata": {
        "colab": {
          "background_save": true
        },
        "id": "yRGZuqKpRceh"
      },
      "outputs": [],
      "source": [
        "import sys\n",
        "\n",
        "file_index={}\n",
        "words_index=defaultdict(list)\n",
        "i=1\n",
        "j=1\n",
        "for folder in os.listdir('ira1'): # opens the directory\n",
        "    file_index[i]=folder\n",
        "    i=i+1\n",
        "path=\"ira1\"\n",
        "for folder in os.listdir('ira1'):\n",
        "    words=(readf(os.path.join(path,folder)))\n",
        "    for word in words:\n",
        "        if j not in words_index[word]:\n",
        "            words_index[word].append(j)\n",
        "\n",
        "        # else:\n",
        "    j=j+1\n",
        "noOfDocuments = j-1"
      ]
    },
    {
      "cell_type": "code",
      "execution_count": null,
      "metadata": {
        "id": "ktM4GsQ1RtGP"
      },
      "outputs": [],
      "source": [
        "cnt=int(input(\"Enter number of queries: \"))\n",
        "for b in range(0,cnt):\n",
        "  query1=input(\"Enter Input sentence :\")\n",
        "  query2=input(\"Enter Operational sequence :\")\n",
        "  # query2 = [stripSpecialCharacters(x) for x in query2]\n",
        "  query2=query2.lower()\n",
        "  query2=query2.strip()\n",
        "  query2= (query2.replace(\" \",\"\"))  # preprocessing query \n",
        "  query2=list(query2.split(\",\"))\n",
        "  query1=pro(query1)\n",
        "\n",
        "  positions=[]\n",
        "  for x in query1:\n",
        "    if x in words_index:\n",
        "      positions.append(words_index[x])\n",
        "    else:\n",
        "      positions.append([])\n",
        "  print(query1)\n",
        "  print(query2)\n",
        "  # print(type(query2[0]))\n",
        "  print(positions)\n",
        "  comparison = 0\n",
        "  while(len(positions)>1):\n",
        "    b=positions.pop()\n",
        "    a=positions.pop()\n",
        "    c=query2.pop()\n",
        "    if(c==\"or\"):\n",
        "      ans=XorY(a,b)\n",
        "      positions.append(ans)\n",
        "    elif(c==\"and\"):\n",
        "      ans=XandY(a,b)\n",
        "      positions.append(ans)\n",
        "    elif(c==\"ornot\"):\n",
        "      ans=XorNotY(a,b)\n",
        "      positions.append(ans)\n",
        "    elif(c==\"andnot\"):\n",
        "      ans=XandNotY(a,b)\n",
        "      positions.append(ans)\n",
        "  print(query1)\n",
        "  print(query2)\n",
        "  # print(type(query2[0]))\n",
        "  print(positions)\n",
        "  print(\"Number of documents retrieved\",len(positions[0]))\n",
        "  print(\"Total number of comparisons\", comparison)\n",
        "  ll=[]\n",
        "  for kk in positions[0]:\n",
        "    ll.append(file_index[kk])\n",
        "  print(ll)"
      ]
    },
    {
      "cell_type": "code",
      "execution_count": null,
      "metadata": {
        "colab": {
          "background_save": true
        },
        "id": "kRUHSslcZhVw"
      },
      "outputs": [],
      "source": [
        ""
      ]
    }
  ],
  "metadata": {
    "colab": {
      "collapsed_sections": [],
      "name": "IR_Assignment1.ipynb",
      "provenance": []
    },
    "kernelspec": {
      "display_name": "Python 3",
      "name": "python3"
    },
    "language_info": {
      "name": "python"
    }
  },
  "nbformat": 4,
  "nbformat_minor": 0
}